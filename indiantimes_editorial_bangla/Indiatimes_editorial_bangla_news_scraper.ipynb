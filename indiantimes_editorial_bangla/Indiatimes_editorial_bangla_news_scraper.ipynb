{
  "nbformat": 4,
  "nbformat_minor": 0,
  "metadata": {
    "colab": {
      "name": "Indiatimes_editorial_bangla_news_scraper.ipynb",
      "provenance": []
    },
    "kernelspec": {
      "name": "python3",
      "display_name": "Python 3"
    }
  },
  "cells": [
    {
      "cell_type": "code",
      "metadata": {
        "id": "xeuJRQ7qVhJw"
      },
      "source": [
        "import bs4\n",
        "import requests\n",
        "import argparse\n",
        "import sys\n",
        "import os\n",
        "import pandas as pd"
      ],
      "execution_count": 5,
      "outputs": []
    },
    {
      "cell_type": "code",
      "metadata": {
        "id": "EYJeoU9u-sih"
      },
      "source": [
        "links = []   # empty list for storing all the urls of the news articles\n",
        "url = 'https://eisamay.indiatimes.com/editorial/articlelist/15819584.cms'\n",
        "#for url in urls:\n",
        "page = requests.get(url)\n",
        "soup = bs4.BeautifulSoup(page.text, 'html.parser')\n",
        "p1 = soup.find_all('a', attrs={'data-tn': 'news', 'class':'table_row'})\n",
        "# Collecting all the links in a list\n",
        "for content in p1:\n",
        "  link = content.get('href')\n",
        "  links.append(link)"
      ],
      "execution_count": 24,
      "outputs": []
    },
    {
      "cell_type": "code",
      "metadata": {
        "colab": {
          "base_uri": "https://localhost:8080/"
        },
        "id": "q4KGqXvvAcMo",
        "outputId": "cc7d5fbb-c505-4df9-89fc-6cd5003eddc2"
      },
      "source": [
        "links"
      ],
      "execution_count": 25,
      "outputs": [
        {
          "output_type": "execute_result",
          "data": {
            "text/plain": [
              "['https://eisamay.indiatimes.com/editorial/post-editorial/swami-vivekananda-birth-anniversary-significance-of-his-teachings-at-this-time/articleshow/80226060.cms',\n",
              " 'https://eisamay.indiatimes.com/editorial/post-editorial/clash-between-governor-jagdeep-dhankhar-and-west-bengal-government-is-a-political-drama-before-2021-west-bengal-assembly-election/articleshow/80217092.cms',\n",
              " 'https://eisamay.indiatimes.com/editorial/post-editorial/new-year-and-bengal-politics-trends-before-2021-assembly-election/articleshow/80096782.cms',\n",
              " 'https://eisamay.indiatimes.com/editorial/post-editorial/j-p-nadda-convoy-attacked-in-west-bengal/articleshow/79697218.cms',\n",
              " 'https://eisamay.indiatimes.com/editorial/post-editorial/suvendu-adhikari-crisis-and-the-trinamool-congress-party-politics-an-analysis/articleshow/79475490.cms',\n",
              " 'https://eisamay.indiatimes.com/editorial/post-editorial/up-govts-new-anti-conversion-law-and-origin-of-love-jihad/articleshow/79427143.cms',\n",
              " 'https://eisamay.indiatimes.com/editorial/post-editorial/lt-director-yuvraj-mehta-talk-about-bengali-legend-actor-soumitra-chatterjee/articleshow/79340432.cms',\n",
              " 'https://eisamay.indiatimes.com/editorial/post-editorial/wb-assembly-election-2021-an-analysis-on-tmc-cpm-alliance/articleshow/79340235.cms',\n",
              " 'https://eisamay.indiatimes.com/editorial/post-editorial/meme-culture-in-politics-an-analysis/articleshow/79225896.cms',\n",
              " 'https://eisamay.indiatimes.com/editorial/post-editorial/post-editorial-by-nrisingha-prasad-bhaduri-on-jai-sree-ram-controversy/articleshow/80464069.cms',\n",
              " 'https://eisamay.indiatimes.com/editorial/post-editorial/swami-vivekananda-birth-anniversary-significance-of-his-teachings-at-this-time/articleshow/80226060.cms',\n",
              " 'https://eisamay.indiatimes.com/editorial/post-editorial/clash-between-governor-jagdeep-dhankhar-and-west-bengal-government-is-a-political-drama-before-2021-west-bengal-assembly-election/articleshow/80217092.cms',\n",
              " 'https://eisamay.indiatimes.com/editorial/post-editorial/new-year-and-bengal-politics-trends-before-2021-assembly-election/articleshow/80096782.cms',\n",
              " 'https://eisamay.indiatimes.com/editorial/post-editorial/j-p-nadda-convoy-attacked-in-west-bengal/articleshow/79697218.cms',\n",
              " 'https://eisamay.indiatimes.com/editorial/post-editorial/suvendu-adhikari-crisis-and-the-trinamool-congress-party-politics-an-analysis/articleshow/79475490.cms',\n",
              " 'https://eisamay.indiatimes.com/editorial/post-editorial/up-govts-new-anti-conversion-law-and-origin-of-love-jihad/articleshow/79427143.cms',\n",
              " 'https://eisamay.indiatimes.com/editorial/post-editorial/lt-director-yuvraj-mehta-talk-about-bengali-legend-actor-soumitra-chatterjee/articleshow/79340432.cms',\n",
              " 'https://eisamay.indiatimes.com/editorial/post-editorial/wb-assembly-election-2021-an-analysis-on-tmc-cpm-alliance/articleshow/79340235.cms',\n",
              " 'https://eisamay.indiatimes.com/editorial/edit/editorial-on-exemplary-show-of-honesty/articleshow/71216516.cms',\n",
              " 'https://eisamay.indiatimes.com/editorial/edit/editorial-on-jadavpur-university/articleshow/71216408.cms',\n",
              " 'https://eisamay.indiatimes.com/editorial/edit/indian-prime-minister-narendra-modi-and-american-president-donald-trump-relation/articleshow/71198875.cms',\n",
              " 'https://eisamay.indiatimes.com/editorial/edit/editorial-on-food/articleshow/71109988.cms',\n",
              " 'https://eisamay.indiatimes.com/editorial/edit/editorial-on-world-health-organization/articleshow/71109882.cms',\n",
              " 'https://eisamay.indiatimes.com/editorial/edit/editorial-of-rumours-of-child-lifting/articleshow/70907612.cms',\n",
              " 'https://eisamay.indiatimes.com/editorial/edit/edirorial-on-new-zealand-speaker/articleshow/70907477.cms',\n",
              " 'https://eisamay.indiatimes.com/editorial/edit/jammu-kashmir-congress/articleshow/70602489.cms',\n",
              " 'https://eisamay.indiatimes.com/editorial/edit/rahul-gandhi-resigns-as-congress-president-post/articleshow/70086747.cms',\n",
              " 'https://eisamay.indiatimes.com/editorial/interviews/exclusive-conversation-with-nobel-laureate-abhijit-vinayak-banerjees-mother-nirmala-banerjee/articleshow/76723926.cms',\n",
              " 'https://eisamay.indiatimes.com/editorial/interviews/interview-of-qamar-qureshi/articleshow/74206515.cms',\n",
              " 'https://eisamay.indiatimes.com/editorial/interviews/interview-of-indian-politician-and-the-communist-party-of-india-jammu-and-kashmir-state-committee-secretary-mohammed-yousuf-tarigami/articleshow/73326323.cms',\n",
              " 'https://eisamay.indiatimes.com/editorial/interviews/interview-of-badri-narayan-govind-ballabh-pant-social-science-institutes-authority/articleshow/71060952.cms',\n",
              " 'https://eisamay.indiatimes.com/editorial/interviews/interview-of-indian-conceptual-artist-mithu-sen/articleshow/70751067.cms',\n",
              " 'https://eisamay.indiatimes.com/editorial/interviews/interview-of-sugata-bose/articleshow/70431354.cms',\n",
              " 'https://eisamay.indiatimes.com/editorial/interviews/interview-of-amitava-ghosh/articleshow/70214168.cms',\n",
              " 'https://eisamay.indiatimes.com/editorial/interviews/interview-of-sugata-bose/articleshow/69644280.cms',\n",
              " 'https://eisamay.indiatimes.com/editorial/interviews/interview-of-sekhar-banerjee/articleshow/68791400.cms']"
            ]
          },
          "metadata": {
            "tags": []
          },
          "execution_count": 25
        }
      ]
    },
    {
      "cell_type": "code",
      "metadata": {
        "colab": {
          "base_uri": "https://localhost:8080/"
        },
        "id": "0WruTjQYF5Am",
        "outputId": "3426c60a-c44e-4f48-bb69-6a0728445058"
      },
      "source": [
        "len(links)"
      ],
      "execution_count": 36,
      "outputs": [
        {
          "output_type": "execute_result",
          "data": {
            "text/plain": [
              "36"
            ]
          },
          "metadata": {
            "tags": []
          },
          "execution_count": 36
        }
      ]
    },
    {
      "cell_type": "code",
      "metadata": {
        "id": "0kqQ3tNdDZh6"
      },
      "source": [
        "# Scraping content from a single article\n",
        "url = 'https://eisamay.indiatimes.com/editorial/interviews/interview-of-sekhar-banerjee/articleshow/68791400.cms'\n",
        "page = requests.get(url)\n",
        "soup = bs4.BeautifulSoup(page.text, 'html.parser')\n",
        "headline = soup.find('h1', attrs={'itemprop':'headline'})\n",
        "caption = soup.find('h2', attrs={'class':'caption text_ellipsis'})\n",
        "para = soup.find('article', attrs={'class':'story-content'})\n"
      ],
      "execution_count": 27,
      "outputs": []
    },
    {
      "cell_type": "code",
      "metadata": {
        "colab": {
          "base_uri": "https://localhost:8080/",
          "height": 35
        },
        "id": "WGxE8aqfEcY8",
        "outputId": "e1232953-5591-4067-ec39-79c117944dab"
      },
      "source": [
        "headline.text"
      ],
      "execution_count": 29,
      "outputs": [
        {
          "output_type": "execute_result",
          "data": {
            "application/vnd.google.colaboratory.intrinsic+json": {
              "type": "string"
            },
            "text/plain": [
              "'মানবধর্ম বা মতুয়াদের আজ কাল পরশুর গল্প '"
            ]
          },
          "metadata": {
            "tags": []
          },
          "execution_count": 29
        }
      ]
    },
    {
      "cell_type": "code",
      "metadata": {
        "colab": {
          "base_uri": "https://localhost:8080/",
          "height": 35
        },
        "id": "TrOYavENEnBJ",
        "outputId": "ce6adabb-6aaa-475b-958a-751294deba05"
      },
      "source": [
        "caption.text"
      ],
      "execution_count": 32,
      "outputs": [
        {
          "output_type": "execute_result",
          "data": {
            "application/vnd.google.colaboratory.intrinsic+json": {
              "type": "string"
            },
            "text/plain": [
              "'বাংলায় জাত ও জাতকেন্দ্রিক রাজনীতি কিন্তু একেবারে নতুন নয়। প্রথম এই জাতভিত্তিক রাজনীতির শুরু হচ্ছে ১৮৭০-এর পর। মানে উনবিংশ শতাব্দীর শেষ দিকে একটা সচেতনতা জাগছে নীচের তলার লোকজনের মধ্যে।'"
            ]
          },
          "metadata": {
            "tags": []
          },
          "execution_count": 32
        }
      ]
    },
    {
      "cell_type": "code",
      "metadata": {
        "colab": {
          "base_uri": "https://localhost:8080/",
          "height": 103
        },
        "id": "tDI358g1Ep8T",
        "outputId": "d86a8ec0-bdab-4227-821c-2adf4c22604c"
      },
      "source": [
        "para.text"
      ],
      "execution_count": 33,
      "outputs": [
        {
          "output_type": "execute_result",
          "data": {
            "application/vnd.google.colaboratory.intrinsic+json": {
              "type": "string"
            },
            "text/plain": [
              "'সাম্প্রতিক বঙ্গীয় রাজনীতিতে প্রায়শ শিরোনামে মতুয়া সম্প্রদায়। তাদের ইতিহাস পর্যালোচনায় শেখর বন্দ্যোপাধ্যায়। প্রথম পর্ববাংলায় জাত ও জাতকেন্দ্রিক রাজনীতি কিন্তু একেবারে নতুন নয়। প্রথম এই জাতভিত্তিক রাজনীতির শুরু হচ্ছে ১৮৭০-এর পর। মানে উনবিংশ শতাব্দীর শেষ দিকে একটা সচেতনতা জাগছে নীচের তলার লোকজনের মধ্যে। শুধুমাত্র শিক্ষিত লোকের মধ্যে নয়, সেটা উঠছে একদল কৃষকের মধ্যে থেকেই। যেমন আজকের যে মতুয়া আন্দোলন, তার সূত্রপাত ১৮৭২-এ। ১৯৩০-এর দশকে এই আন্দোলনগুলো সংগঠিত হচ্ছে। আর চারের দশকে তৈরি হচ্ছে অল ইন্ডিয়া শিডিউলড কাস্ট ফেডারেশন। এঁদেরই ১৯৩৬-এর আগে বলা হত ‘ডিপ্রেসড ক্লাস’। তখন তাঁদের মনোনীত আসন ছিল। তার পর সীমায়িত ভাবে নির্বাচন শুরু হচ্ছে, ১৯৩৭-এ হচ্ছে প্রথম নির্বাচন। তখন কংগ্রেস এই শ্রেণিকে ধরার চেষ্টা করলেও যাঁরা জিতছেন, তাঁদের বেশির ভাগই নির্দল। কারণ ১৯০৫-এ যখন গণপরিসরে যাচ্ছে কংগ্রেসি আন্দোলন, এই আন্দোলনের মধ্যে সামাজিক স্তরের নিচুতলায় থাকা লোকজন এমন কিছু পাচ্ছেন না যাতে তাঁরা নিজেদের পরিচয় খুঁজে পান। কংগ্রেসি আন্দোলনও এই জাতপাতের প্রশ্নটাকে অবহেলা করছে। তাই নির্বাচন যখন হচ্ছে, তখন অকংগ্রেসি নির্দলরা এঁদের মধ্যে থেকে জিতছেন। তখনও পুরোপুরি সংগঠিত নন তাঁরা।নির্বাচনী রাজনীতি’৩৭-এর নির্বাচনে জিতলেন প্রমথরঞ্জন (পিআর) ঠাকুর। রাজ্য বিধানসভায় যাওয়ার পর তাঁরা নিজেদের শক্তিটা বুঝতে পারলেন। বুঝলেন এই যে ৩০টি সংরক্ষিত আসন, সেগুলোর জন্য সব দলেরই তাঁদের প্রয়োজন। না হলে সরকার গড়া সম্ভব হবে না। শক্তিটা বোঝার পরই একান্ত নিজেদের দাবিদাওয়াকে কেন্দ্র করে সংগঠিত হওয়ার পালা শুরু। তবে এখান থেকেই এই আন্দোলনে দু’টো ভাগ এসে যাচ্ছে। এক দিকে পিআর ঠাকুর প্রমুখ। তাঁরা কংগ্রেসের দিকে। পরে মতুয়া আন্দোলনের একেবারে জন্মলগ্নে যাব। তার আগে বলে নিই, হরিচাঁদ ঠাকুরের পর গুরুচাঁদ বরাবরই বলে আসছিলেন, আমরা যাদের কাছ থেকে পাব, সেই দলের দিকেই যাব। কিন্তু গুরুচাঁদের সময় এই আন্দোলন কংগ্রেসের সঙ্গে যায়নি। পরবর্তীতে তাঁর পৌত্র, বিলেত ফেরত ব্যারিস্টার পিআর ঠাকুরের সময় থেকে যেতে শুরু করে। অন্য দিকে একটা গোষ্ঠী যারা যোগেন্দ্রনাথ মণ্ডল এবং অল ইন্ডিয়া শিডিউলড কাস্ট ফেডারেশন থেকে তৈরি হল, তারা দূরে সরে গেল কংগ্রেসের থেকে। যখন দেশভাগের রাজনীতি শুরু হচ্ছে, তখন ফেডারেশন মুসলিম লিগের সঙ্গে জোট করল। কারণ যোগেন মণ্ডলের একটা ধারণা ছিল, বাংলাদেশের কৃষক হয় নমঃশূদ্র, দলিত বা মুসলিম। দুই সম্প্রদায়ের মধ্যে একটা স্বাভাবিক স্বার্থের সামঞ্জস্য আছে। সুতরাং দলিত-মুসলিমের হাত-ধরাধরি কাজে দিতে পারে। যখনই এটা হচ্ছে তখনই এই আন্দোলনে চলে আসছে দু’টো ভাগ। পিআর ঠাকুররা, যাঁরা কংগ্রেসের দিকে আসছেন, তাঁরা দেখছেন সাবেক পূর্ববঙ্গে দলিত-মুসলিম সম্পর্কটা কিন্তু শুধু ভালোবাসার নয়। আসলে এই দুটো সম্প্রদায়ের মধ্যে যেমন জমি নিয়ে ঝামেলা ছিল, আবার প্রেম-প্রীতিও ছিল। পিআর ঠাকুররা চাইলেন, কংগ্রেসের সঙ্গে গিয়ে পশ্চিমবঙ্গ বলে যে রাজ্য হচ্ছে, সেখানে থাকতে। কিন্তু যোগেন মণ্ডল বলে দিলেন, ভারতে এলে দলিতরা কোনও অধিকার পাবেন না। তাই তাঁর পরামর্শ ছিল, দলিতরা যেন পাকিস্তান হওয়ার পরও পূর্ব বাংলায় থেকে যান। পরে তিনি নিজেও যোগ দেন পাকিস্তানি মন্ত্রিসভায়। কিন্তু ১৯৫০-এর পর পুরো ছবিটা বদলে গেল। তখন থেকে ১৯৫৬-৫৭ সাল পর্যন্ত লক্ষ লক্ষ কৃষক ক্রমশ এ পারে আসতে শুরু করলেন। এই মাঝখানের সময়টায় মতুয়া বা তফসিলি জাতি আন্দোলনের ঐক্যটা নষ্ট হয়ে যায়। মূলত দেশভাগের রাজনীতির চাপেই নষ্ট হয় এটা। মূল নজর পড়ে উদ্বাস্তু পুনর্বাসনে। কৃষক উদ্বাস্তুরা যখন ভারতে আসতে শুরু করলেন, তখন এঁদের পুনর্বাসনের ব্যবস্থা সে ভাবে হল না। রিফিউজি ট্র্যানজিট ক্যাম্পে রাখা হল এবং তার পর পাঠিয়ে দেওয়া হল দণ্ডকারণ্য ও আন্দামানে। ‘৬০-’৬১ পর্যন্ত উদ্বাস্তু পুনর্বাসনের যে আন্দোলন, এটা করছিলেন তফসিলি জাতির বিশেষ করে নমঃশূদ্র কৃষকরা। আগে যাঁরা জাতি আন্দোলন করতেন অর্থাৎ পিআর ঠাকুর ও যোগেন মণ্ডল, তখনও তাঁদের মিল হয়নি। কিন্তু দু’জনেই জড়িয়ে ছিলেন উদ্বাস্তু আন্দোলনে। যার জন্য স্বাধীনতার পর প্রথম দুই দশক পশ্চিমবঙ্গে কোনও শক্তিশালী জাতপাতের আন্দোলন দেখিনি। পিআর ঠাকুর কংগ্রেসের বিধায়ক ছিলেন। তবে ’৬৪-র পর আর এক দফা নমঃশূদ্র উদ্বাস্তু চলে এলেন এ পারে। ভারত সরকার তাঁদের দায়িত্ব নিতে রাজি হল না। সেই প্রতিবাদে কংগ্রেস থেকে ইস্তফা দিলেন পিআর ঠাকুর। মাসখানেকের মধ্যেই গ্রেপ্তার করা হল তাঁকে। চলে গেলেন বাংলা কংগ্রেসে। ’৬৭-তে বাংলা কংগ্রেসের হয়ে ভোটেও জিতলেন। তার পরই ছেড়ে দিলেন রাজনীতি। রাজনীতি ছেড়ে যেটা করলেন সেটা অত্যন্ত গুরুত্বপূর্ণ।সামাজিক আন্দোলনে পুনর্জন্মমতুয়া আন্দোলন বৈষ্ণব ঘরানার একটা আন্দোলন। সেখানে ভক্তিবাদের কথা আছে, গুরুবাদের কথা আছে। হরিচাঁদ, গুরুচাঁদ, তার পর প্রমথরঞ্জন বা পিআর ঠাকুর বংশানুক্রমে এই ধর্মীয় সম্প্রদায়ের গুরু। এই সম্প্রদায় যে শুধু ধর্মীয় তা নয়, এতে একটা সর্বজনীন আবেদন ছিল। যা গৌড়ীয় বৈষ্ণবধর্মের থেকে আলাদা। যদিও ’৪৭-এর আগে এর মূল ব্যাপ্তি ছিল পূর্ব বাংলায় মূলত নমঃশূদ্রদের মধ্যে। এই নমঃশূদ্র সম্প্রদায় বাস করত পাশাপাশি ছয়-সাতটা জেলায়। ঢাকা, ফরিদপুর, বরিশাল, যশোহর, খুলনায়। একটা ঘন সঙ্ঘবদ্ধ সম্প্রদায়। দেশভাগের পর কিছু লোকজন রয়ে গেলেন পশ্চিমবঙ্গে। বহু লোককে পাঠিয়ে দেওয়া হল দণ্ডকারণ্যে। কিছু লোককে পাঠিয়ে দেওয়া হল আন্দামানে। অর্থাৎ এই সম্প্রদায় ছড়িয়ে ছিটিয়ে গেল। এ বার পিআর ঠাকুর এই ছড়িয়ে ছিটিয়ে থাকা লোকজনকে একটা আধ্যাত্মিক কাঠামোর মধ্যে আনার চেষ্টা করলেন। এতে মতুয়া সম্প্রদায়ের পুনর্জন্ম হল সামাজিক-ধর্মীয় আন্দোলনে। আমার মনে হয়, ধর্মীয় সম্প্রদায় হলেও সাংগঠনিক কাঠামোটা পশ্চিমি স্বেচ্ছাসেবী সংস্থার ধাঁচে তৈরি। যদি ভক্তি আন্দোলনের ঘরানায় বলি, কোনও ধর্মীয় সম্প্রদায়ের কথা জানা নেই, যাদের গুপ্ত একটা সংবিধান আছে। তার একটা সংগঠন আছে, সাংগঠনিক কাঠামো আছে। সেটা ঠাকুরনগরে তৈরি হলেও শাখা-প্রশাখা পিআর ঠাকুর ছড়িয়ে দিলেন সারা ভারতে। দণ্ডকারণ্য, আন্দামান বা বিহার ও অসমে যে নমঃশূদ্র মতুয়ারা ছড়িয়ে ছিল, তাঁদের নিয়ে এলেন একটা সংঠনের আওতায়। বাইরে থেকে তাঁরা ছড়িয়ে গেলেও মনের দিক থেকে এক জায়গায় এলেন।মাতোয়ারা থেকে মতুয়াস্থানীয় উচ্চবর্ণের হিন্দু আধিপত্যের বিরুদ্ধে সামাজিক সংগঠন হিসাবে নিজেদের অস্তিত্ব জানান দিতেই মতুয়া সম্প্রদায়ের জন্ম বাংলাদেশের সাবেক ফরিদপুর জেলায়। ফরিদপুরের গোপালগঞ্জ সাব-ডিভিশনের সফলডাঙায় জন্ম হরিচাঁদ ঠাকুরের। কয়েক প্রজন্মের বৈষ্ণব তাঁর পরিবার। জমিদারদের হাতে পূর্বপুরুষের গ্রাম থেকে উৎখাত হন হরিচাঁদ। ডেরা বাঁধেন ওরাকান্দিতে। ক্রমশ বাড়তে থাকে তাঁর ভক্তসংখ্যা। আত্মদর্শন থেকে তাঁর উপলব্ধি হয়, শুধু হরিনামেই তিনি মুক্তি দিতে পারবেন বঞ্চিত নিচুতলার মানুষকে। অত্যাচারী ব্রাহ্মণ জমিদারদের মুক্তি দিতে পারেন হরিচাঁদ, এই বিশ্বাস জন্মায় তাঁর ভ্ক্তদের মধ্যে। উচ্চবর্ণের হিন্দু ও প্রাতিষ্ঠানিক বৈষ্ণবরা হরিচাঁদের অনুগামীদের সঙ্গে সম্পর্ক রাখতে চাননি। নিজেদের আধ্যাত্মিক দর্শনে মাতোয়ারা হিসাবে এঁদেরই ‘মোতো’ বলে বিদ্রুপ করতেন বিরুদ্ধ মতালম্বীরা। হরিচাঁদ এই বিদ্রুপাত্মক শব্দটাকেই নিলেন। তাঁর ভক্তদের বলা শুরু হল ‘মতুয়া’। হরিচাঁদের মৃত্যু হয় ১৮৭৮-এ। তাঁর ছেলে গুরুচাঁদের হাত ধরে এই সম্প্রদায় আরও বিকশিত হয়। ঐতিহ্যবাহী হিন্দুত্ব এবং গৌড়ীয় বৈষ্ণববাদ, বৈষ্ণববাদের সহজিয়া ধারা থেকে গ্রহণ-বর্জনে তৈরি হয় ‘নতুন ধর্ম’। গুরুচাঁদ এমন সমাজের কথা বলেন, যেখানে কোনও জাতপাতের বিভাজন নেই। ‘মতুয়া সকলে এক, জাতিভেদ নাই।’ মানবিক একটা বিশ্বাস, যাতে নেই লিঙ্গবৈষম্য। সমতার ধারণায় গ্রহণীয় নারীও। তবে মতুয়া সম্প্রদায় কোনও রকম মূর্তিপুজো এবং আনুষ্ঠানিকতায় ভরা হিন্দু ধর্মীয় অভ্যাসের বিপ্রতীপে ছিল। বরং এগুলোকে তিনি ব্রাহ্মণ্য আধিপত্যের চিহ্ন হিসাবেই দেখতেন তিনি। ‘মতুয়া জীবনে তাই দেবদেবী কেহ নাই।’ ‘মানুষের মাঝে তাঁর প্রাণের ঠাকুর।’ মতুয়া ধর্মে অত্যন্ত গুরুত্বপূর্ণ কীর্তন। এই কীর্তন বা নামগানই কঠিন সময়ে মতুয়া সম্প্রদায়ের নমঃশূদ্র ভ্ক্তদের পাথেয়। নামগানেই তাঁদের যৌথ সত্তার বজ্র নির্ঘোষ। ‘ভরা বুকে খোলা চুলে, যায় হরিচাঁদ বলে...।’ ‘দম দম মারো ডঙ্কা, ছিঁড়ে ফেলো সব শঙ্কা...।’ নিচুতলার কৃষক সম্প্রদায়ের এই দর্শন শঙ্করপন্থী বেদান্তবাদ ও স্মার্ত বৈষ্ণববাদের থেকে ভিন্ন। মতুয়াদের ভাবনায় রয়েছে, ব্রাহ্মণ্য ধর্ম শূদ্রদের চিরকালীন দাস করে রাখার জন্য তৈরি। অদ্বৈতে আস্থাশীল বেদান্তকে নিরাশার তত্ত্ব বলেছেন হরিচাঁদ। পার্থিব আশা-আকাঙ্ক্ষাচ্যুত বেদান্ত দর্শন এমন মানসিক অবস্থা তৈরি করে যাতে নিচুতলার মানুষ কখনওই উপরে উঠে আসতে পারে না। গুরুচাঁদ আরও ধারালো ভাষায় সন্ন্যাস বা মুক্তির ধারণাকে আক্রমণ করেছেন। ‘কেমনে পালিবে ধর্ম অন্ন চিন্তা যাঁর’। সে কারণে আদর্শ পথ হল, ভক্তির সঙ্গে কর্মকে মিশিয়ে নেওয়া।এই সম্প্রদায়ের বেশির ভাগ লোকের ভরসা ছিল চাষবাস। কৃষিভিত্তিক সমাজে গার্হস্থ্য জীবনও অত্যন্ত গুরুত্বপূর্ণ। ‘সন্ন্যাসীর ধর্ম যাহা, এই ধর্ম নহে তাহা।’ পারিবারিক জীবন, সন্তানধারণও গুরুত্বপূর্ণ। মাটি যেমন ফসলের বৃত্ত জারি রাখে তেমনই। মতুয়াদের পতাকায় দু’টো রং। লাল-সাদা। লাল হচ্ছে রজঃ গুণ আর সাদা সত্ত্ব গুণ। তবে হরিচাঁদের পরামর্শ ছিল, বিয়ে করে সংসার। (চলবে)শেখর বন্দ্যোপাধ্যায় ভিক্টোরিয়া ইউনিভার্সিটি অফ ওয়েলিংটন, নিউ জিল্যান্ড-এ এশীয় ইতিহাসের শিক্ষকসাক্ষাৎকারের ভিত্তিতে অনুলিখন: নীলাঞ্জন বসু '"
            ]
          },
          "metadata": {
            "tags": []
          },
          "execution_count": 33
        }
      ]
    },
    {
      "cell_type": "code",
      "metadata": {
        "id": "gBrOaTGEE0zr"
      },
      "source": [
        "# Creating and empty dataframe\n",
        "news_data = pd.DataFrame(columns=['url', 'headline', 'caption', 'text'])"
      ],
      "execution_count": 34,
      "outputs": []
    },
    {
      "cell_type": "code",
      "metadata": {
        "colab": {
          "base_uri": "https://localhost:8080/",
          "height": 49
        },
        "id": "vNwBUVWbFd5o",
        "outputId": "41bdc239-d82b-49b4-f006-a6a48a460337"
      },
      "source": [
        "news_data"
      ],
      "execution_count": 35,
      "outputs": [
        {
          "output_type": "execute_result",
          "data": {
            "text/html": [
              "<div>\n",
              "<style scoped>\n",
              "    .dataframe tbody tr th:only-of-type {\n",
              "        vertical-align: middle;\n",
              "    }\n",
              "\n",
              "    .dataframe tbody tr th {\n",
              "        vertical-align: top;\n",
              "    }\n",
              "\n",
              "    .dataframe thead th {\n",
              "        text-align: right;\n",
              "    }\n",
              "</style>\n",
              "<table border=\"1\" class=\"dataframe\">\n",
              "  <thead>\n",
              "    <tr style=\"text-align: right;\">\n",
              "      <th></th>\n",
              "      <th>url</th>\n",
              "      <th>headline</th>\n",
              "      <th>caption</th>\n",
              "      <th>text</th>\n",
              "    </tr>\n",
              "  </thead>\n",
              "  <tbody>\n",
              "  </tbody>\n",
              "</table>\n",
              "</div>"
            ],
            "text/plain": [
              "Empty DataFrame\n",
              "Columns: [url, headline, caption, text]\n",
              "Index: []"
            ]
          },
          "metadata": {
            "tags": []
          },
          "execution_count": 35
        }
      ]
    },
    {
      "cell_type": "code",
      "metadata": {
        "id": "OtC-YOx_Ey5w"
      },
      "source": [
        "# Scraping the content from the links\n",
        "for url in links:\n",
        "  page = requests.get(url)\n",
        "  soup = bs4.BeautifulSoup(page.text, 'html.parser')\n",
        "  headline = (soup.find('h1', attrs={'itemprop':'headline'})).text\n",
        "  caption = (soup.find('h2', attrs={'class':'caption text_ellipsis'})).text\n",
        "  para = (soup.find('article', attrs={'class':'story-content'})).text\n",
        "\n",
        "  # append rows to news_data DataFrame \n",
        "  news_data = news_data.append({'url': url, 'headline': headline, 'caption': caption, 'text': para},  \n",
        "                ignore_index = True) "
      ],
      "execution_count": 41,
      "outputs": []
    },
    {
      "cell_type": "code",
      "metadata": {
        "colab": {
          "base_uri": "https://localhost:8080/",
          "height": 289
        },
        "id": "rsLtlMQzGpEC",
        "outputId": "88107d6f-2dfc-4add-d4fe-842e4e66f578"
      },
      "source": [
        "news_data.head()"
      ],
      "execution_count": 42,
      "outputs": [
        {
          "output_type": "execute_result",
          "data": {
            "text/html": [
              "<div>\n",
              "<style scoped>\n",
              "    .dataframe tbody tr th:only-of-type {\n",
              "        vertical-align: middle;\n",
              "    }\n",
              "\n",
              "    .dataframe tbody tr th {\n",
              "        vertical-align: top;\n",
              "    }\n",
              "\n",
              "    .dataframe thead th {\n",
              "        text-align: right;\n",
              "    }\n",
              "</style>\n",
              "<table border=\"1\" class=\"dataframe\">\n",
              "  <thead>\n",
              "    <tr style=\"text-align: right;\">\n",
              "      <th></th>\n",
              "      <th>url</th>\n",
              "      <th>headline</th>\n",
              "      <th>caption</th>\n",
              "      <th>text</th>\n",
              "    </tr>\n",
              "  </thead>\n",
              "  <tbody>\n",
              "    <tr>\n",
              "      <th>0</th>\n",
              "      <td>https://eisamay.indiatimes.com/editorial/inter...</td>\n",
              "      <td>মানবধর্ম বা মতুয়াদের আজ কাল পরশুর গল্প</td>\n",
              "      <td>বাংলায় জাত ও জাতকেন্দ্রিক রাজনীতি কিন্তু একেবা...</td>\n",
              "      <td>সাম্প্রতিক বঙ্গীয় রাজনীতিতে প্রায়শ শিরোনামে ম...</td>\n",
              "    </tr>\n",
              "    <tr>\n",
              "      <th>1</th>\n",
              "      <td>https://eisamay.indiatimes.com/editorial/post-...</td>\n",
              "      <td>Swami Vivekananda: বিভেদের বিরুদ্ধে বিবেকানন্দ...</td>\n",
              "      <td>স্বামী বিবেকানন্দকে (Swami Vivekananda) নিয়ে ব...</td>\n",
              "      <td>সব্যসাচী চট্টোপাধ্যায়সাম্প্রতিক সময়ে একদল উগ্র...</td>\n",
              "    </tr>\n",
              "    <tr>\n",
              "      <th>2</th>\n",
              "      <td>https://eisamay.indiatimes.com/editorial/post-...</td>\n",
              "      <td>বাংলার রাজ্যপাল কি বেআইনি কাজ করছেন?</td>\n",
              "      <td>বাংলার রাজ্যপাল জগদীপ ধনখড়ের সঙ্গে রাজ্য সরকা...</td>\n",
              "      <td>হাইলাইটসচিঠিতে বলা হয়েছে যে, ২০১৯ সালের জুলাই ...</td>\n",
              "    </tr>\n",
              "    <tr>\n",
              "      <th>3</th>\n",
              "      <td>https://eisamay.indiatimes.com/editorial/post-...</td>\n",
              "      <td>দোরে দোরে রাজনৈতিক নেতাদের আনাগোনা বাড়ুক এই ন...</td>\n",
              "      <td>নতুন বছর পড়ে গেল। আসছে বাংলার ভোট। রাজনৈতিক দ...</td>\n",
              "      <td>হাইলাইটস১৮ টি আসনে জয়লাভ করে বিজেপি একটি বড় চ...</td>\n",
              "    </tr>\n",
              "    <tr>\n",
              "      <th>4</th>\n",
              "      <td>https://eisamay.indiatimes.com/editorial/post-...</td>\n",
              "      <td>রিপোর্ট কার্ড বনাম সন্ত্রাসের রাজনীতি, আসলে গণ...</td>\n",
              "      <td>রাজ্যের তৃণমূল সরকার ঠিক করে রেখেছিল যে ১০ ডিস...</td>\n",
              "      <td>হাইলাইটস২০২১-এর লোকসভা নির্বাচনের ট্রেলার কি আ...</td>\n",
              "    </tr>\n",
              "  </tbody>\n",
              "</table>\n",
              "</div>"
            ],
            "text/plain": [
              "                                                 url  ...                                               text\n",
              "0  https://eisamay.indiatimes.com/editorial/inter...  ...  সাম্প্রতিক বঙ্গীয় রাজনীতিতে প্রায়শ শিরোনামে ম...\n",
              "1  https://eisamay.indiatimes.com/editorial/post-...  ...  সব্যসাচী চট্টোপাধ্যায়সাম্প্রতিক সময়ে একদল উগ্র...\n",
              "2  https://eisamay.indiatimes.com/editorial/post-...  ...  হাইলাইটসচিঠিতে বলা হয়েছে যে, ২০১৯ সালের জুলাই ...\n",
              "3  https://eisamay.indiatimes.com/editorial/post-...  ...  হাইলাইটস১৮ টি আসনে জয়লাভ করে বিজেপি একটি বড় চ...\n",
              "4  https://eisamay.indiatimes.com/editorial/post-...  ...  হাইলাইটস২০২১-এর লোকসভা নির্বাচনের ট্রেলার কি আ...\n",
              "\n",
              "[5 rows x 4 columns]"
            ]
          },
          "metadata": {
            "tags": []
          },
          "execution_count": 42
        }
      ]
    },
    {
      "cell_type": "code",
      "metadata": {
        "id": "3B4kKotKG6Tg"
      },
      "source": [
        "news_data.to_csv('indiatimes_editorial_bangla_news.csv', index=False)"
      ],
      "execution_count": 45,
      "outputs": []
    },
    {
      "cell_type": "code",
      "metadata": {
        "colab": {
          "base_uri": "https://localhost:8080/",
          "height": 289
        },
        "id": "QbzY2-EdHWIm",
        "outputId": "45ed913d-4d84-4b5f-be4b-cd30419e7021"
      },
      "source": [
        "df = pd.read_csv('/content/indiatimes_editorial_bangla_news.csv')\n",
        "df.sample(5)"
      ],
      "execution_count": 46,
      "outputs": [
        {
          "output_type": "execute_result",
          "data": {
            "text/html": [
              "<div>\n",
              "<style scoped>\n",
              "    .dataframe tbody tr th:only-of-type {\n",
              "        vertical-align: middle;\n",
              "    }\n",
              "\n",
              "    .dataframe tbody tr th {\n",
              "        vertical-align: top;\n",
              "    }\n",
              "\n",
              "    .dataframe thead th {\n",
              "        text-align: right;\n",
              "    }\n",
              "</style>\n",
              "<table border=\"1\" class=\"dataframe\">\n",
              "  <thead>\n",
              "    <tr style=\"text-align: right;\">\n",
              "      <th></th>\n",
              "      <th>url</th>\n",
              "      <th>headline</th>\n",
              "      <th>caption</th>\n",
              "      <th>text</th>\n",
              "    </tr>\n",
              "  </thead>\n",
              "  <tbody>\n",
              "    <tr>\n",
              "      <th>0</th>\n",
              "      <td>https://eisamay.indiatimes.com/editorial/inter...</td>\n",
              "      <td>মানবধর্ম বা মতুয়াদের আজ কাল পরশুর গল্প</td>\n",
              "      <td>বাংলায় জাত ও জাতকেন্দ্রিক রাজনীতি কিন্তু একেবা...</td>\n",
              "      <td>সাম্প্রতিক বঙ্গীয় রাজনীতিতে প্রায়শ শিরোনামে ম...</td>\n",
              "    </tr>\n",
              "    <tr>\n",
              "      <th>25</th>\n",
              "      <td>https://eisamay.indiatimes.com/editorial/edit/...</td>\n",
              "      <td>দায়িত্ব</td>\n",
              "      <td>টনাটির যেহেতু ভিডিয়ো তোলা হয়, তাই, সময়ের রীতি ...</td>\n",
              "      <td>নিউ জিল্যান্ড আইনসভার অধ্যক্ষকে সম্প্রতি তাঁরই...</td>\n",
              "    </tr>\n",
              "    <tr>\n",
              "      <th>20</th>\n",
              "      <td>https://eisamay.indiatimes.com/editorial/edit/...</td>\n",
              "      <td>সুচেতনা</td>\n",
              "      <td>যাদবপুর বিশ্ববিদ্যালয়ে যে কাণ্ডটি ঘটে গেল, তার...</td>\n",
              "      <td>যাদবপুর বিশ্ববিদ্যালয়, নানা সময়, প্রণিধানযোগ্য...</td>\n",
              "    </tr>\n",
              "    <tr>\n",
              "      <th>3</th>\n",
              "      <td>https://eisamay.indiatimes.com/editorial/post-...</td>\n",
              "      <td>দোরে দোরে রাজনৈতিক নেতাদের আনাগোনা বাড়ুক এই ন...</td>\n",
              "      <td>নতুন বছর পড়ে গেল। আসছে বাংলার ভোট। রাজনৈতিক দ...</td>\n",
              "      <td>হাইলাইটস১৮ টি আসনে জয়লাভ করে বিজেপি একটি বড় চ...</td>\n",
              "    </tr>\n",
              "    <tr>\n",
              "      <th>11</th>\n",
              "      <td>https://eisamay.indiatimes.com/editorial/post-...</td>\n",
              "      <td>Swami Vivekananda: বিভেদের বিরুদ্ধে বিবেকানন্দ...</td>\n",
              "      <td>স্বামী বিবেকানন্দকে (Swami Vivekananda) নিয়ে ব...</td>\n",
              "      <td>সব্যসাচী চট্টোপাধ্যায়সাম্প্রতিক সময়ে একদল উগ্র...</td>\n",
              "    </tr>\n",
              "  </tbody>\n",
              "</table>\n",
              "</div>"
            ],
            "text/plain": [
              "                                                  url  ...                                               text\n",
              "0   https://eisamay.indiatimes.com/editorial/inter...  ...  সাম্প্রতিক বঙ্গীয় রাজনীতিতে প্রায়শ শিরোনামে ম...\n",
              "25  https://eisamay.indiatimes.com/editorial/edit/...  ...  নিউ জিল্যান্ড আইনসভার অধ্যক্ষকে সম্প্রতি তাঁরই...\n",
              "20  https://eisamay.indiatimes.com/editorial/edit/...  ...  যাদবপুর বিশ্ববিদ্যালয়, নানা সময়, প্রণিধানযোগ্য...\n",
              "3   https://eisamay.indiatimes.com/editorial/post-...  ...  হাইলাইটস১৮ টি আসনে জয়লাভ করে বিজেপি একটি বড় চ...\n",
              "11  https://eisamay.indiatimes.com/editorial/post-...  ...  সব্যসাচী চট্টোপাধ্যায়সাম্প্রতিক সময়ে একদল উগ্র...\n",
              "\n",
              "[5 rows x 4 columns]"
            ]
          },
          "metadata": {
            "tags": []
          },
          "execution_count": 46
        }
      ]
    }
  ]
}